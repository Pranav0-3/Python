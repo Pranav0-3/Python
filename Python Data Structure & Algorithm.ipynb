{
 "cells": [
  {
   "cell_type": "markdown",
   "id": "5335263a",
   "metadata": {},
   "source": [
    "# Arrays."
   ]
  },
  {
   "cell_type": "code",
   "execution_count": null,
   "id": "099a2c49",
   "metadata": {},
   "outputs": [],
   "source": []
  },
  {
   "cell_type": "markdown",
   "id": "7d6573d4",
   "metadata": {},
   "source": [
    "## Implementation of 2D array."
   ]
  },
  {
   "cell_type": "code",
   "execution_count": 2,
   "id": "0f905586",
   "metadata": {},
   "outputs": [
    {
     "name": "stdout",
     "output_type": "stream",
     "text": [
      "Enter the row num: 3\n",
      "Enter the col num: 2\n",
      "[[0, 0], [0, 1], [0, 2]]\n"
     ]
    }
   ],
   "source": [
    "r_num = int(input(\"Enter the row num: \"))\n",
    "c_num = int(input(\"Enter the col num: \"))\n",
    "two_d_arr = [[0 for col in range(c_num)] for row in range(r_num)]\n",
    "\n",
    "for row in range(r_num):\n",
    "    for col in range(c_num):\n",
    "        two_d_arr[row][col] = row*col\n",
    "        \n",
    "print(two_d_arr)"
   ]
  },
  {
   "cell_type": "markdown",
   "id": "09930e28",
   "metadata": {},
   "source": [
    "## Search, Sort & Delete in array."
   ]
  },
  {
   "cell_type": "code",
   "execution_count": 1,
   "id": "305a5c30",
   "metadata": {},
   "outputs": [
    {
     "name": "stdout",
     "output_type": "stream",
     "text": [
      "Enter the size of an Array: 3\n",
      "Enter Elements below:\n",
      "10\n",
      "20\n",
      "30\n",
      "['10', '20', '30'] \n",
      "Enter the value you want to delete: 10\n",
      "\n",
      "The New Array is:\n",
      "20 30 "
     ]
    }
   ],
   "source": [
    "# For Delete.\n",
    "\n",
    "print(end=\"Enter the size of an Array: \" )\n",
    "n = int(input())\n",
    "arr = []\n",
    "print(end=\"Enter Elements below:\\n\")\n",
    "for i in range(n):\n",
    "    arr.append(input())\n",
    "print(arr,end=\" \")\n",
    "print(end=\"\\nEnter the value you want to delete: \")\n",
    "val = input()\n",
    "if val in arr:\n",
    "    arr.remove(val)\n",
    "    \n",
    "    print(\"\\nThe New Array is:\")\n",
    "    for i in range(n-1):\n",
    "        print(end=arr[i]+\" \")\n",
    "else:\n",
    "    print(\"\\nSorry it Doesn't Exist:(\")\n",
    "        "
   ]
  },
  {
   "cell_type": "code",
   "execution_count": 7,
   "id": "834f50bd",
   "metadata": {},
   "outputs": [
    {
     "name": "stdout",
     "output_type": "stream",
     "text": [
      "The Original arrays are:\n",
      "10 50 30 80 40 20 60 70 \n",
      "\n",
      "Elements after sorting are: \n",
      "10 20 30 40 50 60 70 80 "
     ]
    }
   ],
   "source": [
    "# For Sorting.\n",
    "\n",
    "arr = [10,50,30,80,40,20,60,70]\n",
    "temp = 0\n",
    "\n",
    "print(\"The Original arrays are:\")\n",
    "for i in range(0, len(arr)):\n",
    "    print(arr[i],end=\" \")\n",
    "    \n",
    "#sorting mechanism:\n",
    "for i in range(0, len(arr)):\n",
    "    for j in range(i+1, len(arr)):\n",
    "        if (arr[i] > arr[j]):\n",
    "            temp = arr[i]\n",
    "            arr[i] = arr[j]\n",
    "            arr[j] = temp\n",
    "print()\n",
    "\n",
    "print(\"\\nElements after sorting are: \")\n",
    "for i in range(0, len(arr)):\n",
    "    print(arr[i], end=' ')\n",
    "    "
   ]
  },
  {
   "cell_type": "code",
   "execution_count": 10,
   "id": "686c721e",
   "metadata": {},
   "outputs": [
    {
     "name": "stdout",
     "output_type": "stream",
     "text": [
      "The new created array is: 1 7 3 1 2 5 \n",
      "\n",
      "The index of 1st occurance of 3 is:2\n",
      "The index of 1st occurance of 2 is:4\n"
     ]
    }
   ],
   "source": [
    "# For Searching\n",
    "\n",
    "import array\n",
    "arr = array.array(\"i\", [1,7,3,1,2,5])\n",
    "print(\"The new created array is: \",end=\"\")\n",
    "for i in range(0,6):\n",
    "    print(arr[i], end=\" \")\n",
    "print(\"\\n\")\n",
    "print(\"The index of 1st occurance of 3 is:\",end=\"\")\n",
    "print(arr.index(3))\n",
    "print(\"The index of 1st occurance of 2 is:\",end=\"\")\n",
    "print(arr.index(2))"
   ]
  },
  {
   "cell_type": "markdown",
   "id": "a5f5410a",
   "metadata": {},
   "source": [
    "# Stacks."
   ]
  },
  {
   "cell_type": "code",
   "execution_count": 16,
   "id": "57aec45b",
   "metadata": {},
   "outputs": [
    {
     "name": "stdout",
     "output_type": "stream",
     "text": [
      "['Welcome', 'To', 'Jupyter']\n",
      "Jupyter\n",
      "['Welcome', 'To']\n",
      "To\n",
      "['Welcome']\n",
      "Welcome\n",
      "[]\n"
     ]
    }
   ],
   "source": [
    "# stack using List.\n",
    "\n",
    "stack = []\n",
    "stack.append(\"Welcome\")\n",
    "stack.append(\"To\")\n",
    "stack.append(\"Jupyter\")\n",
    "print(stack)\n",
    "print(stack.pop())\n",
    "print(stack)\n",
    "print(stack.pop())\n",
    "print(stack)\n",
    "print(stack.pop())\n",
    "print(stack)"
   ]
  },
  {
   "cell_type": "code",
   "execution_count": 23,
   "id": "65a43577",
   "metadata": {},
   "outputs": [
    {
     "name": "stdout",
     "output_type": "stream",
     "text": [
      "deque(['x'])\n",
      "deque(['x', 'y', 'z'])\n",
      "z\n",
      "deque(['x', 'y'])\n",
      "y\n",
      "deque(['x'])\n",
      "x\n",
      "deque([])\n"
     ]
    }
   ],
   "source": [
    "# stack using collection.deque\n",
    "# stacks in python are created by collection module which provides deque class.\n",
    "# append and pop operations are faster in deque compared to lists.\n",
    "\n",
    "from collections import deque\n",
    "stack = deque()\n",
    "stack.append(\"x\")\n",
    "print(stack)\n",
    "stack.append(\"y\")\n",
    "stack.append(\"z\")\n",
    "print(stack)\n",
    "print(stack.pop())\n",
    "print(stack)\n",
    "print(stack.pop())\n",
    "print(stack)\n",
    "print(stack.pop())\n",
    "print(stack)\n",
    "if IndexError == True: #to show empty deque stack.\n",
    "    print(stack.pop())\n",
    "    print(stack)"
   ]
  },
  {
   "cell_type": "code",
   "execution_count": 32,
   "id": "0487cfd6",
   "metadata": {},
   "outputs": [
    {
     "name": "stdout",
     "output_type": "stream",
     "text": [
      "3\n",
      "True\n",
      "\n",
      "2\n",
      "False\n"
     ]
    }
   ],
   "source": [
    "# implementaion using queue.\n",
    "\n",
    "from queue import LifoQueue\n",
    "\n",
    "stack=LifoQueue(maxsize=3)\n",
    "stack.put(2)\n",
    "stack.put(3)\n",
    "stack.put(4)\n",
    "\n",
    "print(stack.qsize()) #specifies the size\n",
    "print(stack.full()) # returns True when matches the maxsize mentioned\n",
    "\n",
    "stack.get() # removes the last value(like pop)\n",
    "print(\"\")\n",
    "print(stack.qsize())\n",
    "print(stack.full())"
   ]
  },
  {
   "cell_type": "markdown",
   "id": "a2f8aa2e",
   "metadata": {},
   "source": [
    "# Queue.\n"
   ]
  },
  {
   "cell_type": "code",
   "execution_count": 7,
   "id": "d7bfa388",
   "metadata": {},
   "outputs": [
    {
     "name": "stdout",
     "output_type": "stream",
     "text": [
      "The Original Queue is: [1, 2, 3, 4, 5]\n",
      "\n",
      "After removing an item queue looks like: [2, 3, 4, 5]\n",
      "\n",
      "FIFO  i.e first in first out\n"
     ]
    }
   ],
   "source": [
    "# basic queue implementation\n",
    "\n",
    "class Queue:\n",
    "    def __init__(self):\n",
    "        self.queue = []\n",
    "    def enqueue(self, item):\n",
    "        self.queue.append(item)\n",
    "    def dequeue(self):\n",
    "        if len(self.queue) < 1:\n",
    "            return None\n",
    "        return self.queue.pop(0)\n",
    "    def display(self):\n",
    "        print(self.queue)\n",
    "    def size(self):\n",
    "        return len(self.queue)\n",
    "\n",
    "q = Queue()\n",
    "q.enqueue(1)\n",
    "q.enqueue(2)\n",
    "q.enqueue(3)\n",
    "q.enqueue(4)\n",
    "q.enqueue(5)\n",
    "print(\"The Original Queue is: \",end='')\n",
    "q.display()\n",
    "q.dequeue()\n",
    "print(\"\\nAfter removing an item queue looks like: \",end=\"\")\n",
    "q.display()\n",
    "print(\"\\nFIFO  i.e first in first out\")      "
   ]
  },
  {
   "cell_type": "code",
   "execution_count": 2,
   "id": "642d46a0",
   "metadata": {},
   "outputs": [
    {
     "ename": "SyntaxError",
     "evalue": "expected ':' (1226919955.py, line 39)",
     "output_type": "error",
     "traceback": [
      "\u001b[1;36m  Input \u001b[1;32mIn [2]\u001b[1;36m\u001b[0m\n\u001b[1;33m    def printqueue(self)\u001b[0m\n\u001b[1;37m                        ^\u001b[0m\n\u001b[1;31mSyntaxError\u001b[0m\u001b[1;31m:\u001b[0m expected ':'\n"
     ]
    }
   ],
   "source": [
    "# Circular Queue\n",
    "\n",
    "class CircularQueue():\n",
    "    \n",
    "    def __init__(self,k):\n",
    "        self.k = k\n",
    "        self.queue = [None] * k\n",
    "        self.head = self.tail = -1\n",
    "        \n",
    "        \n",
    "    def enqueue(self, data):\n",
    "        if ((self.tail+1) % self.k == self.head):\n",
    "            print(\"Circular queue is full:(\")\n",
    "            \n",
    "        elif (self.head == -1):\n",
    "            self.head = 0\n",
    "            self.tail = 0\n",
    "            self.queue[self.tail] = data\n",
    "            \n",
    "        else:\n",
    "            self.tail = (self.tail+1) % self.k\n",
    "            self.queue[self.tail] = data\n",
    "            \n",
    "            \n",
    "    def dequeue(self):\n",
    "        if (self.head == -1):\n",
    "            print(\"The circular queue is empty now.\")\n",
    "            \n",
    "        elif (self.head == self.tail):\n",
    "            temp = self.queue[self.head]\n",
    "            self.head = -1\n",
    "            self.tail = -1\n",
    "            return temp\n",
    "        \n",
    "        else:\n",
    "            temp = self.queue[self.head]\n",
    "            self.head = (self.head + 1) % self.k\n",
    "            \n",
    "    def printqueue(self)\n",
    "    ####"
   ]
  },
  {
   "cell_type": "markdown",
   "id": "c1518263",
   "metadata": {},
   "source": [
    "# Linked List"
   ]
  },
  {
   "cell_type": "code",
   "execution_count": 9,
   "id": "50822bf0",
   "metadata": {},
   "outputs": [],
   "source": [
    "# Creating a \"Node in Singly Linked list\"\n",
    "\n",
    "class Node():\n",
    "    def __init__(self,data):\n",
    "        self.data = data\n",
    "        self.next = None #Not linked, hence None\n",
    "\n",
    "# Creating a \"Class in Signly Linked List\"\n",
    "\n",
    "class SinglyLL():\n",
    "    def __init__(self):\n",
    "        self.head = None\n",
    "\n",
    "sll = SinglyLL() #sll.head = None\n"
   ]
  },
  {
   "cell_type": "code",
   "execution_count": 11,
   "id": "ff5d449f",
   "metadata": {},
   "outputs": [
    {
     "name": "stdout",
     "output_type": "stream",
     "text": [
      "5 10 15 20 \n",
      "0 5 10 15 20 "
     ]
    }
   ],
   "source": [
    "# Traversal in LL\n",
    "\n",
    "class Node():\n",
    "    def __init__(self,data): \n",
    "        self.data = data # n1.data=5, n2.data=10, n3.data=15, n4.data=20\n",
    "        self.next = None # n1.next=None, n2.next=None, n3.next=None, n4.next=None\n",
    "        \n",
    "class SinglyLL():\n",
    "    def __init__(self):\n",
    "        self.head = None # sll.head=None\n",
    "        \n",
    "    def traversal(self):\n",
    "        if self.head is None:\n",
    "            print(\"Singly LL is Empty\")\n",
    "        else:\n",
    "            a = self.head                  # a=ssl.head\n",
    "            while a is not None:           # a=ssl.head=n1,  a=n1.next...\n",
    "                print(a.data, end=' ')     # a.data=n1.data, n2.data...\n",
    "                a=a.next                   # a=n1.next, a=n2.next...till None\n",
    "    \n",
    "    def insert_at_beg(self,data):\n",
    "        print()\n",
    "        nb = Node(data)\n",
    "        nb.next = self.head\n",
    "        self.head = nb\n",
    "\n",
    "n1 = Node(5)\n",
    "sll = SinglyLL()\n",
    "sll.head = n1\n",
    "n2 = Node(10)\n",
    "n1.next = n2\n",
    "n3 = Node(15)\n",
    "n2.next = n3\n",
    "n4 = Node(20)\n",
    "n3.next = n4\n",
    "sll.traversal()\n",
    "sll.insert_at_beg(0)\n",
    "sll.traversal()"
   ]
  },
  {
   "cell_type": "code",
   "execution_count": null,
   "id": "1fd46bf4",
   "metadata": {},
   "outputs": [],
   "source": []
  }
 ],
 "metadata": {
  "kernelspec": {
   "display_name": "Python 3 (ipykernel)",
   "language": "python",
   "name": "python3"
  },
  "language_info": {
   "codemirror_mode": {
    "name": "ipython",
    "version": 3
   },
   "file_extension": ".py",
   "mimetype": "text/x-python",
   "name": "python",
   "nbconvert_exporter": "python",
   "pygments_lexer": "ipython3",
   "version": "3.10.5"
  }
 },
 "nbformat": 4,
 "nbformat_minor": 5
}
