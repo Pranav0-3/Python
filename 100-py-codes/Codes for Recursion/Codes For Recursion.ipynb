{
 "cells": [
  {
   "cell_type": "markdown",
   "id": "711ceb78",
   "metadata": {},
   "source": [
    "# Power of a Number using Recursion in Python"
   ]
  },
  {
   "cell_type": "code",
   "execution_count": 4,
   "id": "4e28e079",
   "metadata": {},
   "outputs": [
    {
     "name": "stdout",
     "output_type": "stream",
     "text": [
      "Enter the base num: 2\n",
      "Enter the pow num: 3\n",
      "2 to the power 3 is 8\n"
     ]
    }
   ],
   "source": [
    "def power(a,b):\n",
    "    if b != 0:\n",
    "        return a * power(a,b-1)\n",
    "    else:\n",
    "        return 1\n",
    "a = int(input(\"Enter the base num: \"))\n",
    "b = int(input(\"Enter the pow num: \"))\n",
    "print(a, \"to the power\", b, \"is\",power(a,b))"
   ]
  },
  {
   "cell_type": "markdown",
   "id": "8bfe7d05",
   "metadata": {},
   "source": [
    "# Method : Using For Loop\n"
   ]
  },
  {
   "cell_type": "code",
   "execution_count": 5,
   "id": "842d610e",
   "metadata": {},
   "outputs": [
    {
     "name": "stdout",
     "output_type": "stream",
     "text": [
      "2 to the power 3 is 8\n"
     ]
    }
   ],
   "source": [
    "def power(a,b):\n",
    "    ans = a\n",
    "    for i in range(b-1):\n",
    "        ans = a * ans\n",
    "    return ans\n",
    "\n",
    "a = 2\n",
    "b = 3\n",
    "print(a, \"to the power\", b, \"is\",power(a,b))"
   ]
  },
  {
   "cell_type": "markdown",
   "id": "bbe29f35",
   "metadata": {},
   "source": [
    "# Prime Number using Recursion"
   ]
  },
  {
   "cell_type": "code",
   "execution_count": 3,
   "id": "ed7a0626",
   "metadata": {},
   "outputs": [
    {
     "name": "stdout",
     "output_type": "stream",
     "text": [
      "Enter a number: 15\n",
      "15 is not a Prime Number\n"
     ]
    }
   ],
   "source": [
    "def primeNum(n, i=2):\n",
    "    if n == i:\n",
    "        return True\n",
    "    elif n % i == 0:\n",
    "        return False\n",
    "    return primeNum(n, i+1)\n",
    "\n",
    "n = int(input(\"Enter a number: \"))\n",
    "if primeNum(n):\n",
    "    print(n, \"is a Prime Number.\")\n",
    "else:\n",
    "    print(n, \"is not a Prime Number\")"
   ]
  },
  {
   "cell_type": "markdown",
   "id": "1629716c",
   "metadata": {},
   "source": [
    "# Method: Using Loop"
   ]
  },
  {
   "cell_type": "code",
   "execution_count": 8,
   "id": "ad413d96",
   "metadata": {},
   "outputs": [
    {
     "name": "stdout",
     "output_type": "stream",
     "text": [
      "Enter a Num: 21\n",
      "No 21 is Not Prime\n"
     ]
    }
   ],
   "source": [
    "def prime(n):\n",
    "    for i in range(n, 1+n//2):\n",
    "        if n % i == 0:\n",
    "            return False\n",
    "        return True\n",
    "\n",
    "n = int(input(\"Enter a Num: \"))\n",
    "if prime(n):\n",
    "    print(\"Yes\",n,\"is Prime.\")\n",
    "else:\n",
    "    print(\"No\",n,\"is Not Prime\")"
   ]
  },
  {
   "cell_type": "markdown",
   "id": "2cf80bae",
   "metadata": {},
   "source": [
    "# Largest Element in an Array using Recursion"
   ]
  },
  {
   "cell_type": "code",
   "execution_count": 19,
   "id": "749b2f72",
   "metadata": {},
   "outputs": [
    {
     "name": "stdout",
     "output_type": "stream",
     "text": [
      "Enter the num of elements you want: 10\n",
      "20\n",
      "25\n",
      "-50\n",
      "69\n",
      "23\n",
      "100\n",
      "970\n",
      "971\n",
      "6969\n",
      "555\n",
      "Largest Num is: 6969\n"
     ]
    }
   ],
   "source": [
    "def findMax(A, n):\n",
    "    if (n == 1):\n",
    "        return A[0]\n",
    "    return max(A[n-1], findMax(A, n - 1))\n",
    "\n",
    "# driver code.\n",
    "if __name__ == \"__main__\":\n",
    "    A = []  ## to get arrary as user i/p\n",
    "    e = int(input(\"Enter the num of elements you want: \")) \n",
    "    for i in range(0,e):\n",
    "        ele = int(input())\n",
    "        A.append(ele)\n",
    "        \n",
    "    n = len(A)\n",
    "    print(\"Largest Num is:\",findMax(A,n))"
   ]
  },
  {
   "cell_type": "code",
   "execution_count": null,
   "id": "caa9b727",
   "metadata": {},
   "outputs": [],
   "source": []
  }
 ],
 "metadata": {
  "kernelspec": {
   "display_name": "Python 3 (ipykernel)",
   "language": "python",
   "name": "python3"
  },
  "language_info": {
   "codemirror_mode": {
    "name": "ipython",
    "version": 3
   },
   "file_extension": ".py",
   "mimetype": "text/x-python",
   "name": "python",
   "nbconvert_exporter": "python",
   "pygments_lexer": "ipython3",
   "version": "3.10.5"
  }
 },
 "nbformat": 4,
 "nbformat_minor": 5
}
