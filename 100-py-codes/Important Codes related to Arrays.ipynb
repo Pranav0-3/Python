{
 "cells": [
  {
   "cell_type": "markdown",
   "id": "2efd30eb",
   "metadata": {},
   "source": [
    "# Find Largest element in an array"
   ]
  },
  {
   "cell_type": "code",
   "execution_count": 14,
   "id": "4f71e5db",
   "metadata": {},
   "outputs": [
    {
     "name": "stdout",
     "output_type": "stream",
     "text": [
      "Enter the number of elements you want: 8\n",
      "10\n",
      "53\n",
      "45\n",
      "34\n",
      "86\n",
      "25\n",
      "64\n",
      "54\n",
      "[10, 53, 45, 34, 86, 25, 64, 54]\n",
      "The largest element is array is: 86\n"
     ]
    }
   ],
   "source": [
    "a = [] #for user input in array\n",
    "n = int(input(\"Enter the number of elements you want: \"))\n",
    "for i in range(0, n):\n",
    "    element = int(input())  \n",
    "    a.append(element)\n",
    "print(a)\n",
    "max_ele = a[0]\n",
    "\n",
    "for i in range(len(a)):\n",
    "    if a[i] > max_ele:\n",
    "        max_ele = a[i]\n",
    "print(\"The largest element is array is:\",max_ele)"
   ]
  },
  {
   "cell_type": "markdown",
   "id": "74faf29b",
   "metadata": {},
   "source": [
    "# Method: using sort()."
   ]
  },
  {
   "cell_type": "code",
   "execution_count": 12,
   "id": "27003e9b",
   "metadata": {},
   "outputs": [
    {
     "name": "stdout",
     "output_type": "stream",
     "text": [
      "89\n"
     ]
    }
   ],
   "source": [
    "a = [10, 89, 9, 56, 4, 80, 8]\n",
    "a.sort()\n",
    "\n",
    "print(a[-1])"
   ]
  },
  {
   "cell_type": "markdown",
   "id": "1306876b",
   "metadata": {},
   "source": [
    "# Find Smallest Element in an Array"
   ]
  },
  {
   "cell_type": "code",
   "execution_count": 13,
   "id": "9102e72d",
   "metadata": {},
   "outputs": [
    {
     "name": "stdout",
     "output_type": "stream",
     "text": [
      "Smallest element in array is: -23\n"
     ]
    }
   ],
   "source": [
    "a = [10,25,-5,50,-23,69]\n",
    "small = a[0]\n",
    "\n",
    "for i in range(len(a)):\n",
    "    if a[i] < small:\n",
    "        small = a[i]\n",
    "print(\"Smallest element in array is:\",small)"
   ]
  },
  {
   "cell_type": "markdown",
   "id": "7628849e",
   "metadata": {},
   "source": [
    "# Find the Smallest and largest element in an array."
   ]
  },
  {
   "cell_type": "code",
   "execution_count": 11,
   "id": "f307f739",
   "metadata": {},
   "outputs": [
    {
     "name": "stdout",
     "output_type": "stream",
     "text": [
      "The largest num is: 69\n",
      "The smallest num is: -23\n"
     ]
    }
   ],
   "source": [
    "a = [10,25,-5,50,-23,69]\n",
    "small = a[0]\n",
    "large = a[0]\n",
    "\n",
    "for i in range(len(a)):\n",
    "    if a[i] > large:\n",
    "        large = a[i]\n",
    "    if a[i] < small:\n",
    "        small = a[i]\n",
    "        \n",
    "print(\"The largest num is:\",large)\n",
    "print(\"The smallest num is:\",small)"
   ]
  },
  {
   "cell_type": "markdown",
   "id": "8a77466d",
   "metadata": {},
   "source": [
    "# Using sort func. "
   ]
  },
  {
   "cell_type": "code",
   "execution_count": 10,
   "id": "77f1ca67",
   "metadata": {},
   "outputs": [
    {
     "name": "stdout",
     "output_type": "stream",
     "text": [
      "LARGE num: 69\n",
      "SMALL num: -23\n"
     ]
    }
   ],
   "source": [
    "a = [10,25,-5,50,-23,69]\n",
    "a.sort()\n",
    "\n",
    "print(\"LARGE num:\",a[-1])\n",
    "print(\"SMALL num:\",a[0])"
   ]
  },
  {
   "cell_type": "markdown",
   "id": "4c5419cf",
   "metadata": {},
   "source": [
    "# Find Second Smallest Element in an Array with Logic."
   ]
  },
  {
   "cell_type": "code",
   "execution_count": 9,
   "id": "d357ba1f",
   "metadata": {},
   "outputs": [
    {
     "name": "stdout",
     "output_type": "stream",
     "text": [
      "2nd Smallest num is: 11\n"
     ]
    }
   ],
   "source": [
    "import math\n",
    "arr = [10, 13, 17, 11, 34, 21]\n",
    "first = second = math.inf\n",
    "\n",
    "for i in range(0, len(arr)):\n",
    "    if arr[i] < first:\n",
    "        second = first\n",
    "        first = arr[i]\n",
    "        \n",
    "    elif arr[i] < second and arr[i] != first:\n",
    "        second = arr[i]\n",
    "print(\"2nd Smallest num is:\",second)"
   ]
  },
  {
   "cell_type": "markdown",
   "id": "e370fc9e",
   "metadata": {},
   "source": [
    "# Easy Way with sort function :)"
   ]
  },
  {
   "cell_type": "code",
   "execution_count": 8,
   "id": "6f9eb98f",
   "metadata": {},
   "outputs": [
    {
     "name": "stdout",
     "output_type": "stream",
     "text": [
      "2nd Smallest Num is: 11\n"
     ]
    }
   ],
   "source": [
    "arr = [10, 13, 17, 11, 34, 21]\n",
    "arr.sort()\n",
    "\n",
    "print(\"2nd Smallest Num is:\",arr[1])"
   ]
  },
  {
   "cell_type": "markdown",
   "id": "08cae69c",
   "metadata": {},
   "source": [
    "# Calculate the sum of elements in an Array."
   ]
  },
  {
   "cell_type": "code",
   "execution_count": 7,
   "id": "6892be61",
   "metadata": {},
   "outputs": [
    {
     "name": "stdout",
     "output_type": "stream",
     "text": [
      "The sum of array is: 220\n"
     ]
    }
   ],
   "source": [
    "a = [23,30,80,32,55]\n",
    "sum = 0\n",
    "\n",
    "for i in range(len(a)):\n",
    "    sum += a[i]\n",
    "print(\"The sum of array is:\",sum)\n",
    "\n",
    "\n",
    "\n",
    "#Shortcut :) \n",
    "# arr = [10, 20, 30, 40]\n",
    "# print(sum(arr))\n",
    "# O/p: 100"
   ]
  },
  {
   "cell_type": "markdown",
   "id": "76ebdd42",
   "metadata": {},
   "source": [
    "# Reverse an Array."
   ]
  },
  {
   "cell_type": "code",
   "execution_count": 6,
   "id": "b7872237",
   "metadata": {},
   "outputs": [
    {
     "name": "stdout",
     "output_type": "stream",
     "text": [
      "[35, 30, 25, 20, 15, 10]\n"
     ]
    }
   ],
   "source": [
    "def rev(A, start, end):\n",
    "    if start >= end:\n",
    "        return\n",
    "    A[start], A[end] =  A[end], A[start]\n",
    "    rev(A, start+1, end-1)\n",
    "    \n",
    "A = [10,15,20,25,30,35]\n",
    "l = len(A)     #optional. Also can mention len like: rev(A,0,6)\n",
    "rev(A,0,l-1)\n",
    "print(A)"
   ]
  },
  {
   "cell_type": "markdown",
   "id": "724be6a1",
   "metadata": {},
   "source": [
    "# Easy Way using slicing :)"
   ]
  },
  {
   "cell_type": "code",
   "execution_count": 5,
   "id": "485f8e67",
   "metadata": {},
   "outputs": [
    {
     "name": "stdout",
     "output_type": "stream",
     "text": [
      "[35, 30, 25, 20, 15, 10]\n"
     ]
    }
   ],
   "source": [
    "A = [10,15,20,25,30,35]\n",
    "print(A[::-1])"
   ]
  },
  {
   "cell_type": "markdown",
   "id": "50b13761",
   "metadata": {},
   "source": [
    "# Sort first half in ascending order and second half in descending order in an array."
   ]
  },
  {
   "cell_type": "code",
   "execution_count": 4,
   "id": "7849ff12",
   "metadata": {},
   "outputs": [
    {
     "name": "stdout",
     "output_type": "stream",
     "text": [
      "10\n",
      "20\n",
      "30\n",
      "50\n",
      "95\n",
      "90\n",
      "80\n",
      "60\n"
     ]
    }
   ],
   "source": [
    "def order(arr, n):\n",
    "    arr.sort()\n",
    "    \n",
    "    #Print 1st half in ascending order\n",
    "    i = 0\n",
    "    while (i < n/2):\n",
    "        print(arr[i])\n",
    "        i = i+1\n",
    "    \n",
    "    #Print 2nd half in descending order\n",
    "    j = n-1\n",
    "    while (j >= n/2):\n",
    "        print(arr[j])\n",
    "        j = j-1\n",
    "    \n",
    "# Driver Code\n",
    "arr = [80,90,10,60,50,95,20,30]\n",
    "n = len(arr)\n",
    "order(arr,n)"
   ]
  },
  {
   "cell_type": "markdown",
   "id": "74c52f00",
   "metadata": {},
   "source": [
    "# Program to sort the elements."
   ]
  },
  {
   "cell_type": "code",
   "execution_count": 3,
   "id": "143fb331",
   "metadata": {},
   "outputs": [
    {
     "name": "stdout",
     "output_type": "stream",
     "text": [
      "[10, 20, 30, 40]\n",
      "[40, 30, 20, 10]\n"
     ]
    }
   ],
   "source": [
    "num = [10, 30, 40, 20]\n",
    "\n",
    "num.sort() \n",
    "print(num[::1])  # ascending  order with slice func :).\n",
    "print(num[::-1]) # descending order with slice func :).\n",
    "\n",
    "#numb.sort(reverse=True) #can also be used to sort in descending order"
   ]
  },
  {
   "cell_type": "markdown",
   "id": "e5d275b2",
   "metadata": {},
   "source": [
    "# Finding the frequency of element"
   ]
  },
  {
   "cell_type": "code",
   "execution_count": 2,
   "id": "d26ff0fb",
   "metadata": {},
   "outputs": [
    {
     "name": "stdout",
     "output_type": "stream",
     "text": [
      "5: 2\n",
      "7: 1\n",
      "8: 2\n",
      "10: 1\n"
     ]
    }
   ],
   "source": [
    "def frequency(arr, size):\n",
    "    \n",
    "    for i in range(0,size):\n",
    "        flag = False\n",
    "        count = 0\n",
    "        \n",
    "        for j in range(i+1, size):\n",
    "            if arr[i] == arr[j]:\n",
    "                flag = True\n",
    "                break\n",
    "        \n",
    "        if flag == True:\n",
    "            continue\n",
    "        \n",
    "        \n",
    "        for j in range(0, i+1):\n",
    "            if arr[i] == arr[j]:\n",
    "                count += 1\n",
    "                \n",
    "        print(\"{}: {}\".format(arr[i],count))\n",
    "\n",
    "# Driver Code\n",
    "arr = [5, 8, 5, 7, 8, 10]\n",
    "n = len(arr)\n",
    "frequency(arr,n)"
   ]
  },
  {
   "cell_type": "markdown",
   "id": "05a91771",
   "metadata": {},
   "source": [
    "# Sorting elements of an Array by Frequency"
   ]
  },
  {
   "cell_type": "code",
   "execution_count": 1,
   "id": "5c29dd51",
   "metadata": {},
   "outputs": [
    {
     "name": "stdout",
     "output_type": "stream",
     "text": [
      "[50, 50, 50, 20, 20, 30, 30, 40, 40, 10]\n"
     ]
    }
   ],
   "source": [
    "from collections import Counter\n",
    "\n",
    "lists = [20, 10, 30, 20, 40, 40, 50, 50, 30, 50]\n",
    "\n",
    "result = [item for items, c in Counter(lists).most_common() for item in [items] * c]\n",
    "print(str(result))"
   ]
  },
  {
   "cell_type": "markdown",
   "id": "8b2ddfb8",
   "metadata": {},
   "source": [
    "# Longest Palindrome in an Array"
   ]
  },
  {
   "cell_type": "code",
   "execution_count": 3,
   "id": "bfe76ba2",
   "metadata": {},
   "outputs": [
    {
     "name": "stdout",
     "output_type": "stream",
     "text": [
      "Enter count: 3\n",
      "121\n",
      "123321\n",
      "12334321\n",
      "Largest palindrome is: 123321\n"
     ]
    }
   ],
   "source": [
    "n = int(input(\"Enter count: \"))\n",
    "arr  = []\n",
    "arr1 = []\n",
    "\n",
    "for i in range(0, n):\n",
    "    arr.append(int(input()))\n",
    "    \n",
    "    for i in arr:\n",
    "        temp = i\n",
    "        rev = 0\n",
    "        while (temp > 0):\n",
    "            rem = temp % 10\n",
    "            rev = rev * 10 + rem\n",
    "            temp = temp // 10\n",
    "            \n",
    "        if (i == rev):\n",
    "            arr1.append(rev)\n",
    "\n",
    "print(\"Largest palindrome is:\", max(arr1))"
   ]
  },
  {
   "cell_type": "markdown",
   "id": "f437deac",
   "metadata": {},
   "source": [
    "# Counting Distinct Elements"
   ]
  },
  {
   "cell_type": "code",
   "execution_count": 7,
   "id": "5b5d2038",
   "metadata": {},
   "outputs": [
    {
     "name": "stdout",
     "output_type": "stream",
     "text": [
      "Enter the size of array: 8\n",
      "10\n",
      "10\n",
      "25\n",
      "25\n",
      "64\n",
      "64\n",
      "50\n",
      "50\n",
      "Total distinct elements are: 4\n"
     ]
    }
   ],
   "source": [
    "a = int(input(\"Enter the size of array: \"))\n",
    "lst = []\n",
    "\n",
    "for i in range(a):\n",
    "    ele = int(input())\n",
    "    lst.append(ele)\n",
    "    \n",
    "setlst = list(set(lst))\n",
    "n = len(setlst)\n",
    "count = 0\n",
    "for i in range(n):\n",
    "    while i < n:\n",
    "        count += 1 \n",
    "        break\n",
    "print(\"Total distinct elements are:\",count)"
   ]
  },
  {
   "cell_type": "code",
   "execution_count": null,
   "id": "e5df99a8",
   "metadata": {},
   "outputs": [],
   "source": []
  }
 ],
 "metadata": {
  "kernelspec": {
   "display_name": "Python 3 (ipykernel)",
   "language": "python",
   "name": "python3"
  },
  "language_info": {
   "codemirror_mode": {
    "name": "ipython",
    "version": 3
   },
   "file_extension": ".py",
   "mimetype": "text/x-python",
   "name": "python",
   "nbconvert_exporter": "python",
   "pygments_lexer": "ipython3",
   "version": "3.10.5"
  }
 },
 "nbformat": 4,
 "nbformat_minor": 5
}
