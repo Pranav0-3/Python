{
 "cells": [
  {
   "cell_type": "markdown",
   "id": "79898945",
   "metadata": {},
   "source": [
    "# Power of a Number using Recursion in Python"
   ]
  },
  {
   "cell_type": "code",
   "execution_count": 4,
   "id": "2f2eda42",
   "metadata": {},
   "outputs": [
    {
     "name": "stdout",
     "output_type": "stream",
     "text": [
      "Enter the base num: 2\n",
      "Enter the pow num: 3\n",
      "2 to the power 3 is 8\n"
     ]
    }
   ],
   "source": [
    "def power(a,b):\n",
    "    if b != 0:\n",
    "        return a * power(a,b-1)\n",
    "    else:\n",
    "        return 1\n",
    "a = int(input(\"Enter the base num: \"))\n",
    "b = int(input(\"Enter the pow num: \"))\n",
    "print(a, \"to the power\", b, \"is\",power(a,b))"
   ]
  },
  {
   "cell_type": "markdown",
   "id": "2d85fb08",
   "metadata": {},
   "source": [
    "# Method : Using For Loop\n"
   ]
  },
  {
   "cell_type": "code",
   "execution_count": 5,
   "id": "e6349488",
   "metadata": {},
   "outputs": [
    {
     "name": "stdout",
     "output_type": "stream",
     "text": [
      "2 to the power 3 is 8\n"
     ]
    }
   ],
   "source": [
    "def power(a,b):\n",
    "    ans = a\n",
    "    for i in range(b-1):\n",
    "        ans = a * ans\n",
    "    return ans\n",
    "\n",
    "a = 2\n",
    "b = 3\n",
    "print(a, \"to the power\", b, \"is\",power(a,b))"
   ]
  },
  {
   "cell_type": "markdown",
   "id": "e58dbdc0",
   "metadata": {},
   "source": [
    "# Prime Number using Recursion"
   ]
  },
  {
   "cell_type": "code",
   "execution_count": 3,
   "id": "d58b9a69",
   "metadata": {},
   "outputs": [
    {
     "name": "stdout",
     "output_type": "stream",
     "text": [
      "Enter a number: 15\n",
      "15 is not a Prime Number\n"
     ]
    }
   ],
   "source": [
    "def primeNum(n, i=2):\n",
    "    if n == i:\n",
    "        return True\n",
    "    elif n % i == 0:\n",
    "        return False\n",
    "    return primeNum(n, i+1)\n",
    "\n",
    "n = int(input(\"Enter a number: \"))\n",
    "if primeNum(n):\n",
    "    print(n, \"is a Prime Number.\")\n",
    "else:\n",
    "    print(n, \"is not a Prime Number\")"
   ]
  },
  {
   "cell_type": "markdown",
   "id": "bb26bfa0",
   "metadata": {},
   "source": [
    "# Method: Using Loop"
   ]
  },
  {
   "cell_type": "code",
   "execution_count": 8,
   "id": "960a5df6",
   "metadata": {},
   "outputs": [
    {
     "name": "stdout",
     "output_type": "stream",
     "text": [
      "Enter a Num: 21\n",
      "No 21 is Not Prime\n"
     ]
    }
   ],
   "source": [
    "def prime(n):\n",
    "    for i in range(n, 1+n//2):\n",
    "        if n % i == 0:\n",
    "            return False\n",
    "        return True\n",
    "\n",
    "n = int(input(\"Enter a Num: \"))\n",
    "if prime(n):\n",
    "    print(\"Yes\",n,\"is Prime.\")\n",
    "else:\n",
    "    print(\"No\",n,\"is Not Prime\")"
   ]
  },
  {
   "cell_type": "markdown",
   "id": "776b4966",
   "metadata": {},
   "source": [
    "# Largest Element in an Array using Recursion"
   ]
  },
  {
   "cell_type": "code",
   "execution_count": 19,
   "id": "76311e7d",
   "metadata": {},
   "outputs": [
    {
     "name": "stdout",
     "output_type": "stream",
     "text": [
      "Enter the num of elements you want: 10\n",
      "20\n",
      "25\n",
      "-50\n",
      "69\n",
      "23\n",
      "100\n",
      "970\n",
      "971\n",
      "6969\n",
      "555\n",
      "Largest Num is: 6969\n"
     ]
    }
   ],
   "source": [
    "def findMax(A, n):\n",
    "    if (n == 1):\n",
    "        return A[0]\n",
    "    return max(A[n-1], findMax(A, n - 1))\n",
    "\n",
    "# driver code.\n",
    "if __name__ == \"__main__\":\n",
    "    A = []  ## to get arrary as user i/p\n",
    "    e = int(input(\"Enter the num of elements you want: \")) \n",
    "    for i in range(0,e):\n",
    "        ele = int(input())\n",
    "        A.append(ele)\n",
    "        \n",
    "    n = len(A)\n",
    "    print(\"Largest Num is:\",findMax(A,n))"
   ]
  },
  {
   "cell_type": "markdown",
   "id": "31377fd1",
   "metadata": {},
   "source": [
    "# Smallest Element in an Array using Recursion"
   ]
  },
  {
   "cell_type": "code",
   "execution_count": 6,
   "id": "9defb9a7",
   "metadata": {},
   "outputs": [
    {
     "name": "stdout",
     "output_type": "stream",
     "text": [
      "Enter the num of elements you want: 8\n",
      "82\n",
      "53\n",
      "28\n",
      "-23\n",
      "25\n",
      "0208\n",
      "6545\n",
      "87\n",
      "Smallest Num is: -23\n"
     ]
    }
   ],
   "source": [
    "def findMin(A, n):\n",
    "    if (n == 1):\n",
    "        return A[0]\n",
    "    return min(A[n-1], findMin(A, n - 1))\n",
    "\n",
    "# Driver Code.\n",
    "if __name__ == \"__main__\":\n",
    "    A = []  ## to get arrary as user i/p\n",
    "    e = int(input(\"Enter the num of elements you want: \")) \n",
    "    for i in range(0,e):\n",
    "        ele = int(input())\n",
    "        A.append(ele)\n",
    "        \n",
    "    n = len(A)\n",
    "    print(\"Smallest Num is:\",findMin(A,n))"
   ]
  },
  {
   "cell_type": "markdown",
   "id": "17108085",
   "metadata": {},
   "source": [
    "# Reversing a Number using Recursion"
   ]
  },
  {
   "cell_type": "code",
   "execution_count": 2,
   "id": "9a113070",
   "metadata": {},
   "outputs": [
    {
     "name": "stdout",
     "output_type": "stream",
     "text": [
      "Enter numbers: 12345678\n",
      "87654321\n"
     ]
    }
   ],
   "source": [
    "def revers(arr,l):\n",
    "    for i in range(l):\n",
    "        arr[i], arr[-1 * (i+1)] = arr[-1 * (i+1)], arr[i]\n",
    "    return arr\n",
    "\n",
    "num = input(\"Enter numbers: \")\n",
    "arr = list(str(num))\n",
    "arr = revers(arr, len(arr)//2)\n",
    "s = print(int(\"\".join(arr)))"
   ]
  },
  {
   "cell_type": "markdown",
   "id": "779279a9",
   "metadata": {},
   "source": [
    "# Calculate Length of the String using Recursion"
   ]
  },
  {
   "cell_type": "code",
   "execution_count": 4,
   "id": "77e0032b",
   "metadata": {},
   "outputs": [
    {
     "name": "stdout",
     "output_type": "stream",
     "text": [
      "Enter a string: Pranav Adake\n",
      "Length of Pranav Adake is 12\n"
     ]
    }
   ],
   "source": [
    "def length(str):\n",
    "    if str == \"\":\n",
    "        return 0\n",
    "    return 1 + length(str[1:])\n",
    "\n",
    "str = input(\"Enter a string: \")\n",
    "print(\"Length of\",str,\"is\",length(str))  #it also includes space"
   ]
  },
  {
   "cell_type": "markdown",
   "id": "4e4d03da",
   "metadata": {},
   "source": [
    "# Method: Using Loop "
   ]
  },
  {
   "cell_type": "code",
   "execution_count": 10,
   "id": "fbc1edbd",
   "metadata": {},
   "outputs": [
    {
     "name": "stdout",
     "output_type": "stream",
     "text": [
      "Length is: 15\n"
     ]
    }
   ],
   "source": [
    "def length(str):\n",
    "    i = 0\n",
    "    while str != \"\":\n",
    "        i += 1\n",
    "        str = str[1:]\n",
    "    return i\n",
    "\n",
    "str = \"Pranav D. Adake\"\n",
    "print(\"Length is:\",length(str))"
   ]
  },
  {
   "cell_type": "markdown",
   "id": "eaf56ca5",
   "metadata": {},
   "source": [
    "# Print All Permutations of a String"
   ]
  },
  {
   "cell_type": "code",
   "execution_count": 15,
   "id": "d5433d9f",
   "metadata": {},
   "outputs": [
    {
     "name": "stdout",
     "output_type": "stream",
     "text": [
      "Enter a String: ABC\n",
      "ABC\n",
      "ACB\n",
      "BAC\n",
      "BCA\n",
      "CBA\n",
      "CAB\n"
     ]
    }
   ],
   "source": [
    "def toString(List):\n",
    "    return \"\".join(List)\n",
    "\n",
    "# Function to print permutations of string\n",
    "# This function takes three parameters:\n",
    "# 1. String - \"a\"\n",
    "# 2. Starting index of the string - \"s\"\n",
    "# 3. Ending index of the string - \"e\"\n",
    "\n",
    "def permute(a,s,e):\n",
    "    if s == e:\n",
    "        print(toString(a))\n",
    "    else:\n",
    "        for i in range(s, e+1):\n",
    "            a[s], a[i] = a[i], a[s]\n",
    "            permute(a, s+1, e)\n",
    "            \n",
    "            #backtrack\n",
    "            a[s], a[i] = a[i], a[s]\n",
    "            \n",
    "# Driver Code.\n",
    "string = input(\"Enter a String: \")\n",
    "n = len(string)\n",
    "a = list(string)\n",
    "permute(a, 0 ,n-1)"
   ]
  },
  {
   "cell_type": "markdown",
   "id": "2b7576c0",
   "metadata": {},
   "source": [
    "# Find sum of n-th term of series."
   ]
  },
  {
   "cell_type": "code",
   "execution_count": 38,
   "id": "1d2b47c9",
   "metadata": {},
   "outputs": [
    {
     "name": "stdout",
     "output_type": "stream",
     "text": [
      "55\n"
     ]
    }
   ],
   "source": [
    "\n",
    "def term(n) :\n",
    "    ans = 0\n",
    "    for i in range(1,n+1) :\n",
    "        ans = ans + i\n",
    "\n",
    "    return ans\n",
    "\n",
    "# Driver code\n",
    "n = 10           #1+2+3+4+5+6+7+8+9+10 = 55\n",
    "print(term(n))"
   ]
  },
  {
   "cell_type": "markdown",
   "id": "07f92171",
   "metadata": {},
   "source": [
    "# Given an integer N the task is to print the F(N)= (1) +(2 * 3) + (4 * 5 * 6) … N 🤔"
   ]
  },
  {
   "cell_type": "code",
   "execution_count": 56,
   "id": "61f797e9",
   "metadata": {},
   "outputs": [
    {
     "ename": "SyntaxError",
     "evalue": "invalid syntax (2004933684.py, line 11)",
     "output_type": "error",
     "traceback": [
      "\u001b[1;36m  Input \u001b[1;32mIn [56]\u001b[1;36m\u001b[0m\n\u001b[1;33m    for i = calculated & i < calculated + current & i+1:\u001b[0m\n\u001b[1;37m          ^\u001b[0m\n\u001b[1;31mSyntaxError\u001b[0m\u001b[1;31m:\u001b[0m invalid syntax\n"
     ]
    }
   ],
   "source": [
    "# if given input 3\n",
    "# o/p is 127\n",
    "# i.e (1) + (2 * 3) + (4 * 5 * 6) = 127\n",
    "\n",
    "\n",
    "\n",
    "def term(calculated,current,N):\n",
    "    result = 0\n",
    "    while(current != N + 1):\n",
    "        cur = 1\n",
    "        for i = calculated & i < calculated + current & i+1:\n",
    "            cur *= i \n",
    "            calculated=i\n",
    "            result += cur\n",
    "            current++\n",
    "        return result\n",
    "\n",
    "\n",
    "// Driver Code\n",
    "int N = 3\n",
    "printf(\"%d \", term(1, 1, N))\n",
    "return 0\n"
   ]
  },
  {
   "cell_type": "markdown",
   "id": "498c9b94",
   "metadata": {},
   "source": [
    "# Nth row of Pascal’s Triangle in Python"
   ]
  },
  {
   "cell_type": "code",
   "execution_count": 4,
   "id": "10e27dc9",
   "metadata": {},
   "outputs": [
    {
     "name": "stdout",
     "output_type": "stream",
     "text": [
      "Enter the row you want: 5\n",
      "1 5 10 10 5 1 "
     ]
    }
   ],
   "source": [
    "# Nth row = nC 0 nC1 nC2 … nCn\n",
    "# So, by using the above concept to find the nth row.\n",
    "# nCr = (nCr-1 * (n – r + 1))/r\n",
    "# Take a variable say prev=1 (as, nC0=1)and print prev.\n",
    "# Now, Run a loop from [1, N], take a variable say curr, and set curr = (prev * (N – i + 1)) / i;\n",
    "# And, Print Curr\n",
    "\n",
    "# 1\n",
    "# 1 1\n",
    "# 1 2 1\n",
    "# 1 3 3 1\n",
    "# 1 4 6 4 1\n",
    "# 1 5 10 10 5 1\n",
    "\n",
    "def getrow(N):\n",
    "    prev = 1\n",
    "    print(prev, end=\" \")\n",
    "\n",
    "    for i in range(1, N + 1):\n",
    "        curr = (prev * (N - i + 1)) // i\n",
    "        print(curr, end=\" \")\n",
    "        prev = curr\n",
    "\n",
    "\n",
    "N = int(input(\"Enter the row you want: \"))\n",
    "getrow(N)"
   ]
  },
  {
   "cell_type": "markdown",
   "id": "8fe01130",
   "metadata": {},
   "source": [
    "# Generate all Combinations of Balanced Parentheses"
   ]
  },
  {
   "cell_type": "code",
   "execution_count": 9,
   "id": "0e464365",
   "metadata": {},
   "outputs": [
    {
     "name": "stdout",
     "output_type": "stream",
     "text": [
      "Enter Number: 3\n",
      "{{{}}}\n",
      "{{}{}}\n",
      "{{}}{}\n",
      "{}{{}}\n",
      "{}{}{}\n"
     ]
    }
   ],
   "source": [
    "def parent(n, open, close, s, ans):\n",
    "    if open == n and close == n:\n",
    "        ans.append(s)\n",
    "        return\n",
    "    \n",
    "    if open < n:\n",
    "        parent(n, open+1,close, s+\"{\", ans)\n",
    "    \n",
    "    if close < open:\n",
    "        parent(n, open,close+1, s+\"}\", ans)\n",
    "    \n",
    "n = int(input(\"Enter Number: \"))\n",
    "ans = []\n",
    "parent(n,0,0,\"\",ans)\n",
    "for s in ans:\n",
    "    print(s)\n",
    "        "
   ]
  },
  {
   "cell_type": "markdown",
   "id": "acf04821",
   "metadata": {},
   "source": [
    "# Find the Factorial of the Number using Recursion"
   ]
  },
  {
   "cell_type": "code",
   "execution_count": 16,
   "id": "653cded5",
   "metadata": {},
   "outputs": [
    {
     "name": "stdout",
     "output_type": "stream",
     "text": [
      "Enter the Number: 5\n",
      "Factorial of 5 is 120\n"
     ]
    }
   ],
   "source": [
    "def factorial(n):\n",
    "    if n == 0:\n",
    "        return 1\n",
    "    return n * factorial(n-1)\n",
    "\n",
    "num = int(input(\"Enter the Number: \"))\n",
    "print(\"Factorial of\",num,\"is\",factorial(num))"
   ]
  },
  {
   "cell_type": "markdown",
   "id": "e96a3320",
   "metadata": {},
   "source": [
    "# Given a Set of Positive Integers, Find All Subsets"
   ]
  },
  {
   "cell_type": "code",
   "execution_count": 26,
   "id": "cc5cae80",
   "metadata": {},
   "outputs": [
    {
     "name": "stdout",
     "output_type": "stream",
     "text": [
      "\n",
      "1\n",
      "1 2\n",
      "1 2 3\n",
      "1 3\n",
      "2\n",
      "2 3\n",
      "3\n"
     ]
    }
   ],
   "source": [
    "def subsetfunc(A, subset=[], index=0):\n",
    "    print(*subset)\n",
    "    \n",
    "    for i in range(index, len(A)):\n",
    "        subset.append(A[i])\n",
    "        \n",
    "        subsetfunc(A, subset, i+1)\n",
    "        subset.pop(-1)\n",
    "    return \n",
    "\n",
    "array = [1,2,3]\n",
    "subsetfunc(array)"
   ]
  }
 ],
 "metadata": {
  "kernelspec": {
   "display_name": "Python 3 (ipykernel)",
   "language": "python",
   "name": "python3"
  },
  "language_info": {
   "codemirror_mode": {
    "name": "ipython",
    "version": 3
   },
   "file_extension": ".py",
   "mimetype": "text/x-python",
   "name": "python",
   "nbconvert_exporter": "python",
   "pygments_lexer": "ipython3",
   "version": "3.10.5"
  }
 },
 "nbformat": 4,
 "nbformat_minor": 5
}
