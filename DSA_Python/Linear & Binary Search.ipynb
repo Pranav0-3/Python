{
 "cells": [
  {
   "cell_type": "markdown",
   "id": "f7f28d5b",
   "metadata": {},
   "source": [
    "# DSA for Python "
   ]
  },
  {
   "cell_type": "code",
   "execution_count": null,
   "id": "7be26c3d",
   "metadata": {},
   "outputs": [],
   "source": [
    "# Import a library module\n",
    "import math"
   ]
  },
  {
   "cell_type": "code",
   "execution_count": null,
   "id": "6a1889cf",
   "metadata": {},
   "outputs": [],
   "source": [
    "# Use a function from the library\n",
    "math.sqrt(49)"
   ]
  },
  {
   "cell_type": "code",
   "execution_count": null,
   "id": "c8822d19",
   "metadata": {},
   "outputs": [],
   "source": []
  }
 ],
 "metadata": {
  "kernelspec": {
   "display_name": "Python 3 (ipykernel)",
   "language": "python",
   "name": "python3"
  },
  "language_info": {
   "codemirror_mode": {
    "name": "ipython",
    "version": 3
   },
   "file_extension": ".py",
   "mimetype": "text/x-python",
   "name": "python",
   "nbconvert_exporter": "python",
   "pygments_lexer": "ipython3",
   "version": "3.10.5"
  }
 },
 "nbformat": 4,
 "nbformat_minor": 5
}
